{
 "cells": [
  {
   "cell_type": "code",
   "execution_count": 29,
   "metadata": {},
   "outputs": [],
   "source": [
    "userlog = open(\"/Users/francis/Desktop/userlog.log\")\n",
    "logs = userlog.readlines()\n",
    "logs_dict = parseLog(logs)\n"
   ]
  },
  {
   "cell_type": "code",
   "execution_count": 39,
   "metadata": {},
   "outputs": [],
   "source": [
    "def parseLog(logs):\n",
    "    logs_dict = {}\n",
    "    for log in logs:\n",
    "        elements = log.split()\n",
    "        time = elements[0]\n",
    "        date = elements[1]\n",
    "        activity = elements[2]\n",
    "        email = elements [3]\n",
    "        server = elements[4]\n",
    "        \n",
    "        if email in logs_dict:\n",
    "            if date in logs_dict[email]:\n",
    "                logs_dict[email][date].append((time, activity, server))\n",
    "            else:\n",
    "                logs_dict[email][date] = [(time, activity, server)]\n",
    "        else:\n",
    "            logs_dict[email] = {date: [(time, activity, server)]}\n",
    "        logs_dict[email][date].sort()\n",
    "    return logs_dict"
   ]
  },
  {
   "cell_type": "code",
   "execution_count": 43,
   "metadata": {},
   "outputs": [],
   "source": [
    "def writeReport(title, fileName, suspiciousAct, suspiciousCount, logs_dict):\n",
    "    new_file = open(fileName, \"x\")\n",
    "    new_file.write(\"========================\\n\")\n",
    "    new_file.write(f\"=== {title} ({str(suspiciousCount)} cases) ===\\n\")\n",
    "    new_file.write(\"========================\\n\")\n",
    "    \n",
    "    for email in suspiciousAct:\n",
    "        actCount = len(suspiciousAct[email])\n",
    "        new_file.write(f\"{email}\\t\\t{str(actCount)}\\n\")\n",
    "        \n",
    "        for date in suspiciousAct[email]:\n",
    "            new_file.write(f\"\\tDATE: [{date}] ---\\n\")\n",
    "            \n",
    "            for activity in logs_dict[email][date]:\n",
    "                new_file.write(f\"\\t\\t{activity[0]}\\t{activity[2]}\\n\")\n",
    "                \n",
    "    new_file.close()\n"
   ]
  },
  {
   "cell_type": "code",
   "execution_count": 38,
   "metadata": {},
   "outputs": [
    {
     "ename": "FileExistsError",
     "evalue": "[Errno 17] File exists: 'suspicious_report.txt'",
     "output_type": "error",
     "traceback": [
      "\u001b[0;31m---------------------------------------------------------------------------\u001b[0m",
      "\u001b[0;31mFileExistsError\u001b[0m                           Traceback (most recent call last)",
      "\u001b[0;32m<ipython-input-38-c0c25987dd59>\u001b[0m in \u001b[0;36m<module>\u001b[0;34m\u001b[0m\n\u001b[1;32m     14\u001b[0m             \u001b[0msuspiciousAct\u001b[0m\u001b[0;34m[\u001b[0m\u001b[0memail\u001b[0m\u001b[0;34m]\u001b[0m\u001b[0;34m.\u001b[0m\u001b[0msort\u001b[0m\u001b[0;34m(\u001b[0m\u001b[0;34m)\u001b[0m\u001b[0;34m\u001b[0m\u001b[0;34m\u001b[0m\u001b[0m\n\u001b[1;32m     15\u001b[0m \u001b[0;34m\u001b[0m\u001b[0m\n\u001b[0;32m---> 16\u001b[0;31m \u001b[0mwriteReport\u001b[0m\u001b[0;34m(\u001b[0m\u001b[0;34m\"Suspicious Activities\"\u001b[0m\u001b[0;34m,\u001b[0m \u001b[0;34m\"suspicious_report.txt\"\u001b[0m\u001b[0;34m,\u001b[0m \u001b[0msuspiciousAct\u001b[0m\u001b[0;34m,\u001b[0m \u001b[0msuspiciousCount\u001b[0m\u001b[0;34m,\u001b[0m \u001b[0mlogs_dict\u001b[0m\u001b[0;34m)\u001b[0m\u001b[0;34m\u001b[0m\u001b[0;34m\u001b[0m\u001b[0m\n\u001b[0m",
      "\u001b[0;32m<ipython-input-31-80c95717eb72>\u001b[0m in \u001b[0;36mwriteReport\u001b[0;34m(title, fileName, suspiciousAct, suspiciousCount, logs_dict)\u001b[0m\n\u001b[1;32m      1\u001b[0m \u001b[0;31m# Function for writing report\u001b[0m\u001b[0;34m\u001b[0m\u001b[0;34m\u001b[0m\u001b[0;34m\u001b[0m\u001b[0m\n\u001b[1;32m      2\u001b[0m \u001b[0;32mdef\u001b[0m \u001b[0mwriteReport\u001b[0m\u001b[0;34m(\u001b[0m\u001b[0mtitle\u001b[0m\u001b[0;34m,\u001b[0m \u001b[0mfileName\u001b[0m\u001b[0;34m,\u001b[0m \u001b[0msuspiciousAct\u001b[0m\u001b[0;34m,\u001b[0m \u001b[0msuspiciousCount\u001b[0m\u001b[0;34m,\u001b[0m \u001b[0mlogs_dict\u001b[0m\u001b[0;34m)\u001b[0m\u001b[0;34m:\u001b[0m\u001b[0;34m\u001b[0m\u001b[0;34m\u001b[0m\u001b[0m\n\u001b[0;32m----> 3\u001b[0;31m     \u001b[0mnew_file\u001b[0m \u001b[0;34m=\u001b[0m \u001b[0mopen\u001b[0m\u001b[0;34m(\u001b[0m\u001b[0mfileName\u001b[0m\u001b[0;34m,\u001b[0m \u001b[0;34m\"x\"\u001b[0m\u001b[0;34m)\u001b[0m\u001b[0;34m\u001b[0m\u001b[0;34m\u001b[0m\u001b[0m\n\u001b[0m\u001b[1;32m      4\u001b[0m     \u001b[0mnew_file\u001b[0m\u001b[0;34m.\u001b[0m\u001b[0mwrite\u001b[0m\u001b[0;34m(\u001b[0m\u001b[0;34m\"==============================\\n\"\u001b[0m\u001b[0;34m)\u001b[0m\u001b[0;34m\u001b[0m\u001b[0;34m\u001b[0m\u001b[0m\n\u001b[1;32m      5\u001b[0m     \u001b[0mnew_file\u001b[0m\u001b[0;34m.\u001b[0m\u001b[0mwrite\u001b[0m\u001b[0;34m(\u001b[0m\u001b[0;34mf\"=== {title} ({str(suspiciousCount)} cases) ===\\n\"\u001b[0m\u001b[0;34m)\u001b[0m\u001b[0;34m\u001b[0m\u001b[0;34m\u001b[0m\u001b[0m\n",
      "\u001b[0;31mFileExistsError\u001b[0m: [Errno 17] File exists: 'suspicious_report.txt'"
     ]
    }
   ],
   "source": [
    "suspiciousAct = {}\n",
    "suspiciousCount = 0\n",
    "for email in logs_dict:\n",
    "    for date in logs_dict[email]:\n",
    "        loginCount = sum(1 for i in logs_dict[email][date] if i[1] == 'login')\n",
    "        LateLogin = any(i[1] == 'login' and int(i[0].split(':')[0]) < 5 for i in logs_dict[email][date])\n",
    "        \n",
    "        if loginCount > 5 or LateLogin:\n",
    "            suspiciousCount += 1\n",
    "            if email in suspiciousAct:\n",
    "                suspiciousAct[email].append(date)\n",
    "            else:\n",
    "                suspiciousAct[email] = [date]\n",
    "            suspiciousAct[email].sort()\n",
    "            \n",
    "writeReport(\"Suspicious Activities\", \"suspicious_report.txt\", suspiciousAct, suspiciousCount, logs_dict)\n"
   ]
  },
  {
   "cell_type": "code",
   "execution_count": 37,
   "metadata": {},
   "outputs": [],
   "source": [
    "irresponsibleAct = {}\n",
    "irresponsibleCount = 0\n",
    "for email in logs_dict:\n",
    "    for date in logs_dict[email]:\n",
    "        loginCount = sum(1 for i in logs_dict[email][date] if i[1] == 'login')\n",
    "        logoutCount = sum(1 for i in logs_dict[email][date] if i[1] == 'logout')\n",
    "        \n",
    "        if loginCount > logoutCount:\n",
    "            irresponsibleCount += 1\n",
    "            if email in irresponsibleAct:\n",
    "                irresponsibleAct[email].append(date)\n",
    "            else:\n",
    "                irresponsibleAct[email] = [date]\n",
    "            irresponsibleAct[email].sort()\n",
    "writeReport(\"Irresponsible Behavior\", \"irresponsible_report.txt\", irresponsibleAct, irresponsibleCount, logs_dict)"
   ]
  },
  {
   "cell_type": "code",
   "execution_count": 41,
   "metadata": {},
   "outputs": [
    {
     "ename": "FileExistsError",
     "evalue": "[Errno 17] File exists: 'glitch_report.txt'",
     "output_type": "error",
     "traceback": [
      "\u001b[0;31m---------------------------------------------------------------------------\u001b[0m",
      "\u001b[0;31mFileExistsError\u001b[0m                           Traceback (most recent call last)",
      "\u001b[0;32m<ipython-input-41-db15c544fc41>\u001b[0m in \u001b[0;36m<module>\u001b[0;34m\u001b[0m\n\u001b[1;32m     14\u001b[0m                 \u001b[0msystemGlitch\u001b[0m\u001b[0;34m[\u001b[0m\u001b[0memail\u001b[0m\u001b[0;34m]\u001b[0m \u001b[0;34m=\u001b[0m \u001b[0;34m[\u001b[0m\u001b[0mdate\u001b[0m\u001b[0;34m]\u001b[0m\u001b[0;34m\u001b[0m\u001b[0;34m\u001b[0m\u001b[0m\n\u001b[1;32m     15\u001b[0m             \u001b[0msystemGlitch\u001b[0m\u001b[0;34m[\u001b[0m\u001b[0memail\u001b[0m\u001b[0;34m]\u001b[0m\u001b[0;34m.\u001b[0m\u001b[0msort\u001b[0m\u001b[0;34m(\u001b[0m\u001b[0;34m)\u001b[0m\u001b[0;34m\u001b[0m\u001b[0;34m\u001b[0m\u001b[0m\n\u001b[0;32m---> 16\u001b[0;31m \u001b[0mwriteReport\u001b[0m\u001b[0;34m(\u001b[0m\u001b[0;34m\"System Glitch\"\u001b[0m\u001b[0;34m,\u001b[0m \u001b[0;34m\"glitch_report.txt\"\u001b[0m\u001b[0;34m,\u001b[0m \u001b[0msystemGlitch\u001b[0m\u001b[0;34m,\u001b[0m \u001b[0msystemGlitchCount\u001b[0m\u001b[0;34m,\u001b[0m \u001b[0mlogs_dict\u001b[0m\u001b[0;34m)\u001b[0m\u001b[0;34m\u001b[0m\u001b[0;34m\u001b[0m\u001b[0m\n\u001b[0m",
      "\u001b[0;32m<ipython-input-40-531d98e2a572>\u001b[0m in \u001b[0;36mwriteReport\u001b[0;34m(title, fileName, suspiciousAct, suspiciousCount, logs_dict)\u001b[0m\n\u001b[1;32m      1\u001b[0m \u001b[0;32mdef\u001b[0m \u001b[0mwriteReport\u001b[0m\u001b[0;34m(\u001b[0m\u001b[0mtitle\u001b[0m\u001b[0;34m,\u001b[0m \u001b[0mfileName\u001b[0m\u001b[0;34m,\u001b[0m \u001b[0msuspiciousAct\u001b[0m\u001b[0;34m,\u001b[0m \u001b[0msuspiciousCount\u001b[0m\u001b[0;34m,\u001b[0m \u001b[0mlogs_dict\u001b[0m\u001b[0;34m)\u001b[0m\u001b[0;34m:\u001b[0m\u001b[0;34m\u001b[0m\u001b[0;34m\u001b[0m\u001b[0m\n\u001b[0;32m----> 2\u001b[0;31m     \u001b[0mnew_file\u001b[0m \u001b[0;34m=\u001b[0m \u001b[0mopen\u001b[0m\u001b[0;34m(\u001b[0m\u001b[0mfileName\u001b[0m\u001b[0;34m,\u001b[0m \u001b[0;34m\"x\"\u001b[0m\u001b[0;34m)\u001b[0m\u001b[0;34m\u001b[0m\u001b[0;34m\u001b[0m\u001b[0m\n\u001b[0m\u001b[1;32m      3\u001b[0m     \u001b[0mnew_file\u001b[0m\u001b[0;34m.\u001b[0m\u001b[0mwrite\u001b[0m\u001b[0;34m(\u001b[0m\u001b[0;34m\"==============================\\n\"\u001b[0m\u001b[0;34m)\u001b[0m\u001b[0;34m\u001b[0m\u001b[0;34m\u001b[0m\u001b[0m\n\u001b[1;32m      4\u001b[0m     \u001b[0mnew_file\u001b[0m\u001b[0;34m.\u001b[0m\u001b[0mwrite\u001b[0m\u001b[0;34m(\u001b[0m\u001b[0;34mf\"=== {title} ({str(suspiciousCount)} cases) ===\\n\"\u001b[0m\u001b[0;34m)\u001b[0m\u001b[0;34m\u001b[0m\u001b[0;34m\u001b[0m\u001b[0m\n\u001b[1;32m      5\u001b[0m     \u001b[0mnew_file\u001b[0m\u001b[0;34m.\u001b[0m\u001b[0mwrite\u001b[0m\u001b[0;34m(\u001b[0m\u001b[0;34m\"==============================\\n\"\u001b[0m\u001b[0;34m)\u001b[0m\u001b[0;34m\u001b[0m\u001b[0;34m\u001b[0m\u001b[0m\n",
      "\u001b[0;31mFileExistsError\u001b[0m: [Errno 17] File exists: 'glitch_report.txt'"
     ]
    }
   ],
   "source": [
    "# Report 3 System Glitch\n",
    "systemGlitch = {}\n",
    "systemGlitchCount = 0\n",
    "for email in logs_dict:\n",
    "    for date in logs_dict[email]:\n",
    "        logoutCount = sum(1 for i in logs_dict[email][date] if i[1] == 'logout')\n",
    "        loginCount = sum(1 for i in logs_dict[email][date] if i[1] == 'login')\n",
    "        \n",
    "        if logoutCount > loginCount:\n",
    "            systemGlitchCount += 1\n",
    "            if email in systemGlitch:\n",
    "                systemGlitch[email].append(date)\n",
    "            else:\n",
    "                systemGlitch[email] = [date]\n",
    "            systemGlitch[email].sort()\n",
    "writeReport(\"System Glitch\", \"glitch_report.txt\", systemGlitch, systemGlitchCount, logs_dict)"
   ]
  },
  {
   "cell_type": "code",
   "execution_count": 44,
   "metadata": {},
   "outputs": [
    {
     "ename": "FileExistsError",
     "evalue": "[Errno 17] File exists: 'domain_report.txt'",
     "output_type": "error",
     "traceback": [
      "\u001b[0;31m---------------------------------------------------------------------------\u001b[0m",
      "\u001b[0;31mFileExistsError\u001b[0m                           Traceback (most recent call last)",
      "\u001b[0;32m<ipython-input-44-002030b35625>\u001b[0m in \u001b[0;36m<module>\u001b[0;34m\u001b[0m\n\u001b[1;32m     10\u001b[0m         \u001b[0mdomains_dict\u001b[0m\u001b[0;34m[\u001b[0m\u001b[0mdomain\u001b[0m\u001b[0;34m]\u001b[0m \u001b[0;34m=\u001b[0m \u001b[0;36m1\u001b[0m\u001b[0;34m\u001b[0m\u001b[0;34m\u001b[0m\u001b[0m\n\u001b[1;32m     11\u001b[0m \u001b[0;34m\u001b[0m\u001b[0m\n\u001b[0;32m---> 12\u001b[0;31m \u001b[0mnew_file\u001b[0m \u001b[0;34m=\u001b[0m \u001b[0mopen\u001b[0m\u001b[0;34m(\u001b[0m\u001b[0;34m\"domain_report.txt\"\u001b[0m\u001b[0;34m,\u001b[0m \u001b[0;34m\"x\"\u001b[0m\u001b[0;34m)\u001b[0m\u001b[0;34m\u001b[0m\u001b[0;34m\u001b[0m\u001b[0m\n\u001b[0m\u001b[1;32m     13\u001b[0m \u001b[0mnew_file\u001b[0m\u001b[0;34m.\u001b[0m\u001b[0mwrite\u001b[0m\u001b[0;34m(\u001b[0m\u001b[0;34m\"==========================\\n\"\u001b[0m\u001b[0;34m)\u001b[0m\u001b[0;34m\u001b[0m\u001b[0;34m\u001b[0m\u001b[0m\n\u001b[1;32m     14\u001b[0m \u001b[0mnew_file\u001b[0m\u001b[0;34m.\u001b[0m\u001b[0mwrite\u001b[0m\u001b[0;34m(\u001b[0m\u001b[0;34mf\"=== Domain Count ({str(len(domains_dict))} Domains) ===\\n\"\u001b[0m\u001b[0;34m)\u001b[0m\u001b[0;34m\u001b[0m\u001b[0;34m\u001b[0m\u001b[0m\n",
      "\u001b[0;31mFileExistsError\u001b[0m: [Errno 17] File exists: 'domain_report.txt'"
     ]
    }
   ],
   "source": [
    "# Report 4 Domain Count\n",
    "emailList = logs_dict.keys()\n",
    "domains_dict = {}\n",
    "for email in emailList:\n",
    "    emailParts = email.split('@')\n",
    "    domain = emailParts[1]\n",
    "    if domain in domains_dict:\n",
    "        domains_dict[domain] += 1\n",
    "    else:\n",
    "        domains_dict[domain] = 1\n",
    "        \n",
    "new_file = open(\"domain_report.txt\", \"x\")\n",
    "new_file.write(\"==========================\\n\")\n",
    "new_file.write(f\"=== Domain Count ({str(len(domains_dict))} Domains) ===\\n\")\n",
    "new_file.write(\"==========================\\n\")\n",
    "               \n",
    "for domain in domains_dict:\n",
    "    new_file.write(f\"{domain}\\t\\t{domains_dict[domain]}\\n\")\n",
    "               \n",
    "new_file.close()"
   ]
  },
  {
   "cell_type": "code",
   "execution_count": null,
   "metadata": {},
   "outputs": [],
   "source": []
  }
 ],
 "metadata": {
  "kernelspec": {
   "display_name": "Python 3",
   "language": "python",
   "name": "python3"
  },
  "language_info": {
   "codemirror_mode": {
    "name": "ipython",
    "version": 3
   },
   "file_extension": ".py",
   "mimetype": "text/x-python",
   "name": "python",
   "nbconvert_exporter": "python",
   "pygments_lexer": "ipython3",
   "version": "3.8.3"
  }
 },
 "nbformat": 4,
 "nbformat_minor": 4
}
